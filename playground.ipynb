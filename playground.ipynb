{
 "cells": [
  {
   "cell_type": "code",
   "execution_count": 1,
   "metadata": {},
   "outputs": [],
   "source": [
    "import pytest\n",
    "from dags.python.extract_rates import extract_rates, extract_rates_dictionary, create_dataframe, export_to_csv\n",
    "import configparser\n",
    "import pandas as pd\n",
    "import json \n",
    "\n",
    "\n",
    "# Configs\n",
    "config = configparser.ConfigParser()\n",
    "config.read('/projects/stock_analysis_platform/dags/python/pipeline.conf')\n",
    "api_key = config.get('fixer_io_api_key', 'api_key')\n",
    "\n",
    "\n",
    "rates = extract_rates(api_key = api_key, start_date='2022-01-01', end_date='2022-02-01')"
   ]
  },
  {
   "cell_type": "code",
   "execution_count": 3,
   "metadata": {},
   "outputs": [],
   "source": [
    "with open('rates.txt', 'w') as write_file:\n",
    "    write_file.write(rates)"
   ]
  },
  {
   "cell_type": "code",
   "execution_count": null,
   "metadata": {},
   "outputs": [],
   "source": []
  }
 ],
 "metadata": {
  "kernelspec": {
   "display_name": "Python 3.10.6 ('stock_analysis_platform': venv)",
   "language": "python",
   "name": "python3"
  },
  "language_info": {
   "codemirror_mode": {
    "name": "ipython",
    "version": 3
   },
   "file_extension": ".py",
   "mimetype": "text/x-python",
   "name": "python",
   "nbconvert_exporter": "python",
   "pygments_lexer": "ipython3",
   "version": "3.10.6"
  },
  "orig_nbformat": 4,
  "vscode": {
   "interpreter": {
    "hash": "6fa6a19ad7eb8c607c28f61f24fd24ae717b95873e2c08589cb71f7dc1ecd590"
   }
  }
 },
 "nbformat": 4,
 "nbformat_minor": 2
}
