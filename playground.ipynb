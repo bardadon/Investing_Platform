{
 "cells": [
  {
   "cell_type": "code",
   "execution_count": 27,
   "metadata": {},
   "outputs": [],
   "source": [
    "from pyspark.sql import SparkSession\n",
    "from pyspark.sql.types import StructType, StructField, FloatType\n",
    "\n",
    "# Create spark session\n",
    "spark = SparkSession.builder.appName('Processing Data').master('localhost').getOrCreate()\n",
    "\n",
    "# Create a schema\n",
    "schema = StructType([ \\\n",
    " StructField(\"rate\", FloatType(), True) \n",
    "])\n",
    " \n",
    "# Load data\n",
    "df = spark.read.schema(schema).csv('dags/rates.csv')\n",
    "\n",
    "# Create a temp view\n",
    "df.createOrReplaceTempView(name='rates')"
   ]
  },
  {
   "cell_type": "code",
   "execution_count": 28,
   "metadata": {},
   "outputs": [
    {
     "name": "stdout",
     "output_type": "stream",
     "text": [
      "+----+\n",
      "|rate|\n",
      "+----+\n",
      "|null|\n",
      "| 0.0|\n",
      "| 1.0|\n",
      "| 2.0|\n",
      "| 3.0|\n",
      "+----+\n",
      "only showing top 5 rows\n",
      "\n",
      "None\n"
     ]
    }
   ],
   "source": [
    "query = '''\n",
    "\n",
    "select *\n",
    "from rates;\n",
    "'''\n",
    "result = spark.sql(query)\n",
    "print(result.show(5))\n"
   ]
  },
  {
   "cell_type": "code",
   "execution_count": null,
   "metadata": {},
   "outputs": [],
   "source": [
    "import pytest\n",
    "from dags.python.Helper import extract_rates, extract_rates_dictionary, create_dataframe, load_to_google_storage\n",
    "import configparser\n",
    "import pandas as pd\n",
    "\n",
    "# Configs\n",
    "config = configparser.ConfigParser()\n",
    "config.read('/projects/stock_analysis_platform/dags/python/pipeline.conf')\n",
    "api_key = config.get('fixer_io_api_key', 'api_key')\n",
    "\n",
    "\n",
    "with open('/projects/stock_analysis_platform/rates_test.txt', 'w') as write_file:\n",
    "    write_file.write(rates)\n",
    "\n"
   ]
  },
  {
   "cell_type": "code",
   "execution_count": 36,
   "metadata": {},
   "outputs": [],
   "source": [
    "import json\n",
    "\n",
    "with open('/projects/stock_analysis_platform/rates_test.txt', 'r') as read_file:\n",
    "    results = read_file.read()\n",
    "    read_file.close()\n",
    "\n",
    "rates = extract_rates_dictionary(results)\n",
    "\n",
    "assert '2022-01-01' in rates.keys()\n"
   ]
  },
  {
   "cell_type": "code",
   "execution_count": 55,
   "metadata": {},
   "outputs": [
    {
     "data": {
      "text/html": [
       "<pre style=\"white-space:pre;overflow-x:auto;line-height:normal;font-family:Menlo,'DejaVu Sans Mono',consolas,'Courier New',monospace\"><span style=\"color: #808000; text-decoration-color: #808000; font-weight: bold\">/tmp/ipykernel_632/2307878296.py:</span><span style=\"color: #808000; text-decoration-color: #808000; font-weight: bold\">18</span><span style=\"color: #808000; text-decoration-color: #808000; font-weight: bold\"> FutureWarning</span><span style=\"color: #808000; text-decoration-color: #808000\">: The frame.append method is deprecated and will be removed from pandas in a future version. Use pandas.concat instead.</span>\n",
       "</pre>\n"
      ],
      "text/plain": [
       "\u001b[1;33m/tmp/ipykernel_632/\u001b[0m\u001b[1;33m2307878296.py\u001b[0m\u001b[1;33m:\u001b[0m\u001b[1;33m18\u001b[0m\u001b[1;33m FutureWarning\u001b[0m\u001b[33m: The frame.append method is deprecated and will be removed from pandas in a future version. Use pandas.concat instead.\u001b[0m\n"
      ]
     },
     "metadata": {},
     "output_type": "display_data"
    },
    {
     "data": {
      "text/html": [
       "<pre style=\"white-space:pre;overflow-x:auto;line-height:normal;font-family:Menlo,'DejaVu Sans Mono',consolas,'Courier New',monospace\"><span style=\"color: #808000; text-decoration-color: #808000; font-weight: bold\">/tmp/ipykernel_632/2307878296.py:</span><span style=\"color: #808000; text-decoration-color: #808000; font-weight: bold\">18</span><span style=\"color: #808000; text-decoration-color: #808000; font-weight: bold\"> FutureWarning</span><span style=\"color: #808000; text-decoration-color: #808000\">: The frame.append method is deprecated and will be removed from pandas in a future version. Use pandas.concat instead.</span>\n",
       "</pre>\n"
      ],
      "text/plain": [
       "\u001b[1;33m/tmp/ipykernel_632/\u001b[0m\u001b[1;33m2307878296.py\u001b[0m\u001b[1;33m:\u001b[0m\u001b[1;33m18\u001b[0m\u001b[1;33m FutureWarning\u001b[0m\u001b[33m: The frame.append method is deprecated and will be removed from pandas in a future version. Use pandas.concat instead.\u001b[0m\n"
      ]
     },
     "metadata": {},
     "output_type": "display_data"
    }
   ],
   "source": [
    "with open('/projects/stock_analysis_platform/rates_test.txt', 'r') as read_file:\n",
    "        results = read_file.read()\n",
    "        read_file.close()\n",
    "\n",
    "rates = extract_rates_dictionary(results)\n",
    "\n",
    "start_date = \"2022-01-01\"\n",
    "end_date = \"2022-01-02\"\n",
    "\n",
    "    # Call the function\n",
    "df = create_dataframe(rates, start_date, end_date, export_to_csv=False)"
   ]
  },
  {
   "cell_type": "code",
   "execution_count": 56,
   "metadata": {},
   "outputs": [
    {
     "data": {
      "text/html": [
       "<div>\n",
       "<style scoped>\n",
       "    .dataframe tbody tr th:only-of-type {\n",
       "        vertical-align: middle;\n",
       "    }\n",
       "\n",
       "    .dataframe tbody tr th {\n",
       "        vertical-align: top;\n",
       "    }\n",
       "\n",
       "    .dataframe thead th {\n",
       "        text-align: right;\n",
       "    }\n",
       "</style>\n",
       "<table border=\"1\" class=\"dataframe\">\n",
       "  <thead>\n",
       "    <tr style=\"text-align: right;\">\n",
       "      <th></th>\n",
       "      <th>AED</th>\n",
       "      <th>AFN</th>\n",
       "      <th>ALL</th>\n",
       "      <th>AMD</th>\n",
       "      <th>ANG</th>\n",
       "      <th>AOA</th>\n",
       "      <th>ARS</th>\n",
       "      <th>AUD</th>\n",
       "      <th>AWG</th>\n",
       "      <th>AZN</th>\n",
       "      <th>...</th>\n",
       "      <th>XAU</th>\n",
       "      <th>XCD</th>\n",
       "      <th>XDR</th>\n",
       "      <th>XOF</th>\n",
       "      <th>XPF</th>\n",
       "      <th>YER</th>\n",
       "      <th>ZAR</th>\n",
       "      <th>ZMK</th>\n",
       "      <th>ZMW</th>\n",
       "      <th>ZWL</th>\n",
       "    </tr>\n",
       "  </thead>\n",
       "  <tbody>\n",
       "    <tr>\n",
       "      <th>0</th>\n",
       "      <td>4.176782</td>\n",
       "      <td>117.979297</td>\n",
       "      <td>121.277018</td>\n",
       "      <td>546.096265</td>\n",
       "      <td>2.049808</td>\n",
       "      <td>626.101357</td>\n",
       "      <td>116.773434</td>\n",
       "      <td>1.564485</td>\n",
       "      <td>2.046862</td>\n",
       "      <td>1.937662</td>\n",
       "      <td>...</td>\n",
       "      <td>0.000622</td>\n",
       "      <td>3.073193</td>\n",
       "      <td>0.812663</td>\n",
       "      <td>658.979869</td>\n",
       "      <td>120.367257</td>\n",
       "      <td>284.571056</td>\n",
       "      <td>18.138658</td>\n",
       "      <td>10235.677475</td>\n",
       "      <td>18.94874</td>\n",
       "      <td>366.160363</td>\n",
       "    </tr>\n",
       "    <tr>\n",
       "      <th>1</th>\n",
       "      <td>4.176782</td>\n",
       "      <td>117.979297</td>\n",
       "      <td>121.277018</td>\n",
       "      <td>546.096265</td>\n",
       "      <td>2.049808</td>\n",
       "      <td>626.101357</td>\n",
       "      <td>116.773434</td>\n",
       "      <td>1.564485</td>\n",
       "      <td>2.046862</td>\n",
       "      <td>1.937662</td>\n",
       "      <td>...</td>\n",
       "      <td>0.000622</td>\n",
       "      <td>3.073193</td>\n",
       "      <td>0.812663</td>\n",
       "      <td>658.979869</td>\n",
       "      <td>120.367257</td>\n",
       "      <td>284.571056</td>\n",
       "      <td>18.138658</td>\n",
       "      <td>10235.677475</td>\n",
       "      <td>18.94874</td>\n",
       "      <td>366.160363</td>\n",
       "    </tr>\n",
       "    <tr>\n",
       "      <th>2</th>\n",
       "      <td>4.177235</td>\n",
       "      <td>117.993578</td>\n",
       "      <td>121.292102</td>\n",
       "      <td>546.164583</td>\n",
       "      <td>2.050064</td>\n",
       "      <td>626.179720</td>\n",
       "      <td>116.759289</td>\n",
       "      <td>1.565111</td>\n",
       "      <td>2.047118</td>\n",
       "      <td>1.931850</td>\n",
       "      <td>...</td>\n",
       "      <td>0.000622</td>\n",
       "      <td>3.073577</td>\n",
       "      <td>0.812765</td>\n",
       "      <td>659.057648</td>\n",
       "      <td>120.382047</td>\n",
       "      <td>284.605769</td>\n",
       "      <td>18.156679</td>\n",
       "      <td>10236.956907</td>\n",
       "      <td>18.95111</td>\n",
       "      <td>366.206170</td>\n",
       "    </tr>\n",
       "  </tbody>\n",
       "</table>\n",
       "<p>3 rows × 168 columns</p>\n",
       "</div>"
      ],
      "text/plain": [
       "        AED         AFN         ALL         AMD       ANG         AOA  \\\n",
       "0  4.176782  117.979297  121.277018  546.096265  2.049808  626.101357   \n",
       "1  4.176782  117.979297  121.277018  546.096265  2.049808  626.101357   \n",
       "2  4.177235  117.993578  121.292102  546.164583  2.050064  626.179720   \n",
       "\n",
       "          ARS       AUD       AWG       AZN  ...       XAU       XCD  \\\n",
       "0  116.773434  1.564485  2.046862  1.937662  ...  0.000622  3.073193   \n",
       "1  116.773434  1.564485  2.046862  1.937662  ...  0.000622  3.073193   \n",
       "2  116.759289  1.565111  2.047118  1.931850  ...  0.000622  3.073577   \n",
       "\n",
       "        XDR         XOF         XPF         YER        ZAR           ZMK  \\\n",
       "0  0.812663  658.979869  120.367257  284.571056  18.138658  10235.677475   \n",
       "1  0.812663  658.979869  120.367257  284.571056  18.138658  10235.677475   \n",
       "2  0.812765  659.057648  120.382047  284.605769  18.156679  10236.956907   \n",
       "\n",
       "        ZMW         ZWL  \n",
       "0  18.94874  366.160363  \n",
       "1  18.94874  366.160363  \n",
       "2  18.95111  366.206170  \n",
       "\n",
       "[3 rows x 168 columns]"
      ]
     },
     "execution_count": 56,
     "metadata": {},
     "output_type": "execute_result"
    }
   ],
   "source": [
    "df"
   ]
  },
  {
   "cell_type": "code",
   "execution_count": 44,
   "metadata": {},
   "outputs": [
    {
     "data": {
      "text/html": [
       "<div>\n",
       "<style scoped>\n",
       "    .dataframe tbody tr th:only-of-type {\n",
       "        vertical-align: middle;\n",
       "    }\n",
       "\n",
       "    .dataframe tbody tr th {\n",
       "        vertical-align: top;\n",
       "    }\n",
       "\n",
       "    .dataframe thead th {\n",
       "        text-align: right;\n",
       "    }\n",
       "</style>\n",
       "<table border=\"1\" class=\"dataframe\">\n",
       "  <thead>\n",
       "    <tr style=\"text-align: right;\">\n",
       "      <th></th>\n",
       "      <th>AED</th>\n",
       "      <th>AFN</th>\n",
       "      <th>ALL</th>\n",
       "      <th>AMD</th>\n",
       "      <th>ANG</th>\n",
       "      <th>AOA</th>\n",
       "      <th>ARS</th>\n",
       "      <th>AUD</th>\n",
       "      <th>AWG</th>\n",
       "      <th>AZN</th>\n",
       "      <th>...</th>\n",
       "      <th>XAU</th>\n",
       "      <th>XCD</th>\n",
       "      <th>XDR</th>\n",
       "      <th>XOF</th>\n",
       "      <th>XPF</th>\n",
       "      <th>YER</th>\n",
       "      <th>ZAR</th>\n",
       "      <th>ZMK</th>\n",
       "      <th>ZMW</th>\n",
       "      <th>ZWL</th>\n",
       "    </tr>\n",
       "  </thead>\n",
       "  <tbody>\n",
       "    <tr>\n",
       "      <th>0</th>\n",
       "      <td>4.176782</td>\n",
       "      <td>117.979297</td>\n",
       "      <td>121.277018</td>\n",
       "      <td>546.096265</td>\n",
       "      <td>2.049808</td>\n",
       "      <td>626.101357</td>\n",
       "      <td>116.773434</td>\n",
       "      <td>1.564485</td>\n",
       "      <td>2.046862</td>\n",
       "      <td>1.937662</td>\n",
       "      <td>...</td>\n",
       "      <td>0.000622</td>\n",
       "      <td>3.073193</td>\n",
       "      <td>0.812663</td>\n",
       "      <td>658.979869</td>\n",
       "      <td>120.367257</td>\n",
       "      <td>284.571056</td>\n",
       "      <td>18.138658</td>\n",
       "      <td>10235.677475</td>\n",
       "      <td>18.94874</td>\n",
       "      <td>366.160363</td>\n",
       "    </tr>\n",
       "  </tbody>\n",
       "</table>\n",
       "<p>1 rows × 168 columns</p>\n",
       "</div>"
      ],
      "text/plain": [
       "        AED         AFN         ALL         AMD       ANG         AOA  \\\n",
       "0  4.176782  117.979297  121.277018  546.096265  2.049808  626.101357   \n",
       "\n",
       "          ARS       AUD       AWG       AZN  ...       XAU       XCD  \\\n",
       "0  116.773434  1.564485  2.046862  1.937662  ...  0.000622  3.073193   \n",
       "\n",
       "        XDR         XOF         XPF         YER        ZAR           ZMK  \\\n",
       "0  0.812663  658.979869  120.367257  284.571056  18.138658  10235.677475   \n",
       "\n",
       "        ZMW         ZWL  \n",
       "0  18.94874  366.160363  \n",
       "\n",
       "[1 rows x 168 columns]"
      ]
     },
     "execution_count": 44,
     "metadata": {},
     "output_type": "execute_result"
    }
   ],
   "source": [
    "# Create a dataframe with the columns and indices from the first day's data\n",
    "first_day_data = rates.get(str(start_date))\n",
    "\n",
    "first_day_df = pd.DataFrame(data=first_day_data, index=[0])\n",
    "first_day_df"
   ]
  },
  {
   "cell_type": "code",
   "execution_count": 46,
   "metadata": {},
   "outputs": [
    {
     "data": {
      "text/plain": [
       "DatetimeIndex(['2022-01-01', '2022-01-02'], dtype='datetime64[ns]', freq='D')"
      ]
     },
     "execution_count": 46,
     "metadata": {},
     "output_type": "execute_result"
    }
   ],
   "source": [
    "dates = pd.date_range(start=start_date, end=end_date, freq='D')\n",
    "dates"
   ]
  },
  {
   "cell_type": "code",
   "execution_count": 47,
   "metadata": {},
   "outputs": [
    {
     "data": {
      "text/html": [
       "<pre style=\"white-space:pre;overflow-x:auto;line-height:normal;font-family:Menlo,'DejaVu Sans Mono',consolas,'Courier New',monospace\"><span style=\"color: #808000; text-decoration-color: #808000; font-weight: bold\">/tmp/ipykernel_632/3143271962.py:</span><span style=\"color: #808000; text-decoration-color: #808000; font-weight: bold\">7</span><span style=\"color: #808000; text-decoration-color: #808000; font-weight: bold\"> FutureWarning</span><span style=\"color: #808000; text-decoration-color: #808000\">: The frame.append method is deprecated and will be removed from pandas in a future version. Use pandas.concat instead.</span>\n",
       "</pre>\n"
      ],
      "text/plain": [
       "\u001b[1;33m/tmp/ipykernel_632/\u001b[0m\u001b[1;33m3143271962.py\u001b[0m\u001b[1;33m:\u001b[0m\u001b[1;33m7\u001b[0m\u001b[1;33m FutureWarning\u001b[0m\u001b[33m: The frame.append method is deprecated and will be removed from pandas in a future version. Use pandas.concat instead.\u001b[0m\n"
      ]
     },
     "metadata": {},
     "output_type": "display_data"
    },
    {
     "data": {
      "text/html": [
       "<pre style=\"white-space:pre;overflow-x:auto;line-height:normal;font-family:Menlo,'DejaVu Sans Mono',consolas,'Courier New',monospace\"><span style=\"color: #808000; text-decoration-color: #808000; font-weight: bold\">/tmp/ipykernel_632/3143271962.py:</span><span style=\"color: #808000; text-decoration-color: #808000; font-weight: bold\">7</span><span style=\"color: #808000; text-decoration-color: #808000; font-weight: bold\"> FutureWarning</span><span style=\"color: #808000; text-decoration-color: #808000\">: The frame.append method is deprecated and will be removed from pandas in a future version. Use pandas.concat instead.</span>\n",
       "</pre>\n"
      ],
      "text/plain": [
       "\u001b[1;33m/tmp/ipykernel_632/\u001b[0m\u001b[1;33m3143271962.py\u001b[0m\u001b[1;33m:\u001b[0m\u001b[1;33m7\u001b[0m\u001b[1;33m FutureWarning\u001b[0m\u001b[33m: The frame.append method is deprecated and will be removed from pandas in a future version. Use pandas.concat instead.\u001b[0m\n"
      ]
     },
     "metadata": {},
     "output_type": "display_data"
    }
   ],
   "source": [
    "for date in dates.date:\n",
    "    data = rates.get(str(date))\n",
    "    if data is None:\n",
    "            # Skip the date if there is no data for it\n",
    "        continue\n",
    "            # Append the data for the date to the dataframe\n",
    "    first_day_df = first_day_df.append(data, ignore_index=True)"
   ]
  },
  {
   "cell_type": "code",
   "execution_count": 48,
   "metadata": {},
   "outputs": [
    {
     "data": {
      "text/html": [
       "<div>\n",
       "<style scoped>\n",
       "    .dataframe tbody tr th:only-of-type {\n",
       "        vertical-align: middle;\n",
       "    }\n",
       "\n",
       "    .dataframe tbody tr th {\n",
       "        vertical-align: top;\n",
       "    }\n",
       "\n",
       "    .dataframe thead th {\n",
       "        text-align: right;\n",
       "    }\n",
       "</style>\n",
       "<table border=\"1\" class=\"dataframe\">\n",
       "  <thead>\n",
       "    <tr style=\"text-align: right;\">\n",
       "      <th></th>\n",
       "      <th>AED</th>\n",
       "      <th>AFN</th>\n",
       "      <th>ALL</th>\n",
       "      <th>AMD</th>\n",
       "      <th>ANG</th>\n",
       "      <th>AOA</th>\n",
       "      <th>ARS</th>\n",
       "      <th>AUD</th>\n",
       "      <th>AWG</th>\n",
       "      <th>AZN</th>\n",
       "      <th>...</th>\n",
       "      <th>XAU</th>\n",
       "      <th>XCD</th>\n",
       "      <th>XDR</th>\n",
       "      <th>XOF</th>\n",
       "      <th>XPF</th>\n",
       "      <th>YER</th>\n",
       "      <th>ZAR</th>\n",
       "      <th>ZMK</th>\n",
       "      <th>ZMW</th>\n",
       "      <th>ZWL</th>\n",
       "    </tr>\n",
       "  </thead>\n",
       "  <tbody>\n",
       "    <tr>\n",
       "      <th>0</th>\n",
       "      <td>4.176782</td>\n",
       "      <td>117.979297</td>\n",
       "      <td>121.277018</td>\n",
       "      <td>546.096265</td>\n",
       "      <td>2.049808</td>\n",
       "      <td>626.101357</td>\n",
       "      <td>116.773434</td>\n",
       "      <td>1.564485</td>\n",
       "      <td>2.046862</td>\n",
       "      <td>1.937662</td>\n",
       "      <td>...</td>\n",
       "      <td>0.000622</td>\n",
       "      <td>3.073193</td>\n",
       "      <td>0.812663</td>\n",
       "      <td>658.979869</td>\n",
       "      <td>120.367257</td>\n",
       "      <td>284.571056</td>\n",
       "      <td>18.138658</td>\n",
       "      <td>10235.677475</td>\n",
       "      <td>18.94874</td>\n",
       "      <td>366.160363</td>\n",
       "    </tr>\n",
       "    <tr>\n",
       "      <th>1</th>\n",
       "      <td>4.176782</td>\n",
       "      <td>117.979297</td>\n",
       "      <td>121.277018</td>\n",
       "      <td>546.096265</td>\n",
       "      <td>2.049808</td>\n",
       "      <td>626.101357</td>\n",
       "      <td>116.773434</td>\n",
       "      <td>1.564485</td>\n",
       "      <td>2.046862</td>\n",
       "      <td>1.937662</td>\n",
       "      <td>...</td>\n",
       "      <td>0.000622</td>\n",
       "      <td>3.073193</td>\n",
       "      <td>0.812663</td>\n",
       "      <td>658.979869</td>\n",
       "      <td>120.367257</td>\n",
       "      <td>284.571056</td>\n",
       "      <td>18.138658</td>\n",
       "      <td>10235.677475</td>\n",
       "      <td>18.94874</td>\n",
       "      <td>366.160363</td>\n",
       "    </tr>\n",
       "    <tr>\n",
       "      <th>2</th>\n",
       "      <td>4.177235</td>\n",
       "      <td>117.993578</td>\n",
       "      <td>121.292102</td>\n",
       "      <td>546.164583</td>\n",
       "      <td>2.050064</td>\n",
       "      <td>626.179720</td>\n",
       "      <td>116.759289</td>\n",
       "      <td>1.565111</td>\n",
       "      <td>2.047118</td>\n",
       "      <td>1.931850</td>\n",
       "      <td>...</td>\n",
       "      <td>0.000622</td>\n",
       "      <td>3.073577</td>\n",
       "      <td>0.812765</td>\n",
       "      <td>659.057648</td>\n",
       "      <td>120.382047</td>\n",
       "      <td>284.605769</td>\n",
       "      <td>18.156679</td>\n",
       "      <td>10236.956907</td>\n",
       "      <td>18.95111</td>\n",
       "      <td>366.206170</td>\n",
       "    </tr>\n",
       "  </tbody>\n",
       "</table>\n",
       "<p>3 rows × 168 columns</p>\n",
       "</div>"
      ],
      "text/plain": [
       "        AED         AFN         ALL         AMD       ANG         AOA  \\\n",
       "0  4.176782  117.979297  121.277018  546.096265  2.049808  626.101357   \n",
       "1  4.176782  117.979297  121.277018  546.096265  2.049808  626.101357   \n",
       "2  4.177235  117.993578  121.292102  546.164583  2.050064  626.179720   \n",
       "\n",
       "          ARS       AUD       AWG       AZN  ...       XAU       XCD  \\\n",
       "0  116.773434  1.564485  2.046862  1.937662  ...  0.000622  3.073193   \n",
       "1  116.773434  1.564485  2.046862  1.937662  ...  0.000622  3.073193   \n",
       "2  116.759289  1.565111  2.047118  1.931850  ...  0.000622  3.073577   \n",
       "\n",
       "        XDR         XOF         XPF         YER        ZAR           ZMK  \\\n",
       "0  0.812663  658.979869  120.367257  284.571056  18.138658  10235.677475   \n",
       "1  0.812663  658.979869  120.367257  284.571056  18.138658  10235.677475   \n",
       "2  0.812765  659.057648  120.382047  284.605769  18.156679  10236.956907   \n",
       "\n",
       "        ZMW         ZWL  \n",
       "0  18.94874  366.160363  \n",
       "1  18.94874  366.160363  \n",
       "2  18.95111  366.206170  \n",
       "\n",
       "[3 rows x 168 columns]"
      ]
     },
     "execution_count": 48,
     "metadata": {},
     "output_type": "execute_result"
    }
   ],
   "source": [
    "first_day_df"
   ]
  },
  {
   "cell_type": "code",
   "execution_count": 49,
   "metadata": {},
   "outputs": [],
   "source": [
    "first_day_df.to_csv('dags/rates.csv')"
   ]
  },
  {
   "cell_type": "code",
   "execution_count": 50,
   "metadata": {},
   "outputs": [
    {
     "data": {
      "text/html": [
       "<div>\n",
       "<style scoped>\n",
       "    .dataframe tbody tr th:only-of-type {\n",
       "        vertical-align: middle;\n",
       "    }\n",
       "\n",
       "    .dataframe tbody tr th {\n",
       "        vertical-align: top;\n",
       "    }\n",
       "\n",
       "    .dataframe thead th {\n",
       "        text-align: right;\n",
       "    }\n",
       "</style>\n",
       "<table border=\"1\" class=\"dataframe\">\n",
       "  <thead>\n",
       "    <tr style=\"text-align: right;\">\n",
       "      <th></th>\n",
       "      <th>AED</th>\n",
       "      <th>AFN</th>\n",
       "      <th>ALL</th>\n",
       "      <th>AMD</th>\n",
       "      <th>ANG</th>\n",
       "      <th>AOA</th>\n",
       "      <th>ARS</th>\n",
       "      <th>AUD</th>\n",
       "      <th>AWG</th>\n",
       "      <th>AZN</th>\n",
       "      <th>...</th>\n",
       "      <th>XAU</th>\n",
       "      <th>XCD</th>\n",
       "      <th>XDR</th>\n",
       "      <th>XOF</th>\n",
       "      <th>XPF</th>\n",
       "      <th>YER</th>\n",
       "      <th>ZAR</th>\n",
       "      <th>ZMK</th>\n",
       "      <th>ZMW</th>\n",
       "      <th>ZWL</th>\n",
       "    </tr>\n",
       "  </thead>\n",
       "  <tbody>\n",
       "    <tr>\n",
       "      <th>0</th>\n",
       "      <td>4.176782</td>\n",
       "      <td>117.979297</td>\n",
       "      <td>121.277018</td>\n",
       "      <td>546.096265</td>\n",
       "      <td>2.049808</td>\n",
       "      <td>626.101357</td>\n",
       "      <td>116.773434</td>\n",
       "      <td>1.564485</td>\n",
       "      <td>2.046862</td>\n",
       "      <td>1.937662</td>\n",
       "      <td>...</td>\n",
       "      <td>0.000622</td>\n",
       "      <td>3.073193</td>\n",
       "      <td>0.812663</td>\n",
       "      <td>658.979869</td>\n",
       "      <td>120.367257</td>\n",
       "      <td>284.571056</td>\n",
       "      <td>18.138658</td>\n",
       "      <td>10235.677475</td>\n",
       "      <td>18.94874</td>\n",
       "      <td>366.160363</td>\n",
       "    </tr>\n",
       "    <tr>\n",
       "      <th>1</th>\n",
       "      <td>4.176782</td>\n",
       "      <td>117.979297</td>\n",
       "      <td>121.277018</td>\n",
       "      <td>546.096265</td>\n",
       "      <td>2.049808</td>\n",
       "      <td>626.101357</td>\n",
       "      <td>116.773434</td>\n",
       "      <td>1.564485</td>\n",
       "      <td>2.046862</td>\n",
       "      <td>1.937662</td>\n",
       "      <td>...</td>\n",
       "      <td>0.000622</td>\n",
       "      <td>3.073193</td>\n",
       "      <td>0.812663</td>\n",
       "      <td>658.979869</td>\n",
       "      <td>120.367257</td>\n",
       "      <td>284.571056</td>\n",
       "      <td>18.138658</td>\n",
       "      <td>10235.677475</td>\n",
       "      <td>18.94874</td>\n",
       "      <td>366.160363</td>\n",
       "    </tr>\n",
       "    <tr>\n",
       "      <th>2</th>\n",
       "      <td>4.177235</td>\n",
       "      <td>117.993578</td>\n",
       "      <td>121.292102</td>\n",
       "      <td>546.164583</td>\n",
       "      <td>2.050064</td>\n",
       "      <td>626.179720</td>\n",
       "      <td>116.759289</td>\n",
       "      <td>1.565111</td>\n",
       "      <td>2.047118</td>\n",
       "      <td>1.931850</td>\n",
       "      <td>...</td>\n",
       "      <td>0.000622</td>\n",
       "      <td>3.073577</td>\n",
       "      <td>0.812765</td>\n",
       "      <td>659.057648</td>\n",
       "      <td>120.382047</td>\n",
       "      <td>284.605769</td>\n",
       "      <td>18.156679</td>\n",
       "      <td>10236.956907</td>\n",
       "      <td>18.95111</td>\n",
       "      <td>366.206170</td>\n",
       "    </tr>\n",
       "  </tbody>\n",
       "</table>\n",
       "<p>3 rows × 168 columns</p>\n",
       "</div>"
      ],
      "text/plain": [
       "        AED         AFN         ALL         AMD       ANG         AOA  \\\n",
       "0  4.176782  117.979297  121.277018  546.096265  2.049808  626.101357   \n",
       "1  4.176782  117.979297  121.277018  546.096265  2.049808  626.101357   \n",
       "2  4.177235  117.993578  121.292102  546.164583  2.050064  626.179720   \n",
       "\n",
       "          ARS       AUD       AWG       AZN  ...       XAU       XCD  \\\n",
       "0  116.773434  1.564485  2.046862  1.937662  ...  0.000622  3.073193   \n",
       "1  116.773434  1.564485  2.046862  1.937662  ...  0.000622  3.073193   \n",
       "2  116.759289  1.565111  2.047118  1.931850  ...  0.000622  3.073577   \n",
       "\n",
       "        XDR         XOF         XPF         YER        ZAR           ZMK  \\\n",
       "0  0.812663  658.979869  120.367257  284.571056  18.138658  10235.677475   \n",
       "1  0.812663  658.979869  120.367257  284.571056  18.138658  10235.677475   \n",
       "2  0.812765  659.057648  120.382047  284.605769  18.156679  10236.956907   \n",
       "\n",
       "        ZMW         ZWL  \n",
       "0  18.94874  366.160363  \n",
       "1  18.94874  366.160363  \n",
       "2  18.95111  366.206170  \n",
       "\n",
       "[3 rows x 168 columns]"
      ]
     },
     "execution_count": 50,
     "metadata": {},
     "output_type": "execute_result"
    }
   ],
   "source": [
    "first_day_df"
   ]
  },
  {
   "cell_type": "code",
   "execution_count": 5,
   "metadata": {},
   "outputs": [],
   "source": [
    "import pytest\n",
    "from dags.python.Helper import extract_rates, extract_rates_dictionary, create_dataframe, load_to_google_storage\n",
    "import configparser\n",
    "import pandas as pd\n",
    "\n",
    "\n",
    "with open('/projects/stock_analysis_platform/rates_test.txt', 'r') as read_file:\n",
    "        results = read_file.read()\n",
    "        read_file.close()\n",
    "\n",
    "def create_dataframe(rates: dict, start_date: str, end_date: str, export_to_csv=True) -> pd.DataFrame:\n",
    "\n",
    "    # Create a dataframe with the columns and indices from the first day's data\n",
    "    first_day_data = rates.get(str(start_date))\n",
    "    if first_day_data is None:\n",
    "        # Return an empty dataframe if there is no data for the start date\n",
    "        return pd.DataFrame()\n",
    "    first_day_df = pd.DataFrame()\n",
    "\n",
    "    # Iterate over the dates from the start_date to the end_date\n",
    "    dates = pd.date_range(start=start_date, end=end_date, freq='D')\n",
    "    for date in dates.date:\n",
    "        data = rates.get(str(date))\n",
    "        if data is None:\n",
    "            # Skip the date if there is no data for it\n",
    "            continue\n",
    "            # Append the data for the date to the dataframe\n",
    "        first_day_df = first_day_df.append(data, ignore_index=True)\n",
    "        \n",
    "    # Add dates to the dataframe\n",
    "    first_day_df.index = dates.date\n",
    "\n",
    "    if export_to_csv == True:\n",
    "        first_day_df.to_csv('dags/rates.csv')\n",
    "        \n",
    "    return first_day_df\n",
    "\n"
   ]
  },
  {
   "cell_type": "code",
   "execution_count": 116,
   "metadata": {},
   "outputs": [
    {
     "data": {
      "text/html": [
       "<pre style=\"white-space:pre;overflow-x:auto;line-height:normal;font-family:Menlo,'DejaVu Sans Mono',consolas,'Courier New',monospace\"><span style=\"color: #808000; text-decoration-color: #808000; font-weight: bold\">/projects/stock_analysis_platform/dags/python/Helper.py:</span><span style=\"color: #808000; text-decoration-color: #808000; font-weight: bold\">76</span><span style=\"color: #808000; text-decoration-color: #808000; font-weight: bold\"> FutureWarning</span><span style=\"color: #808000; text-decoration-color: #808000\">: The frame.append method is deprecated and will be removed from pandas in a future version. Use pandas.concat instead.</span>\n",
       "</pre>\n"
      ],
      "text/plain": [
       "\u001b[1;33m/projects/stock_analysis_platform/dags/python/\u001b[0m\u001b[1;33mHelper.py\u001b[0m\u001b[1;33m:\u001b[0m\u001b[1;33m76\u001b[0m\u001b[1;33m FutureWarning\u001b[0m\u001b[33m: The frame.append method is deprecated and will be removed from pandas in a future version. Use pandas.concat instead.\u001b[0m\n"
      ]
     },
     "metadata": {},
     "output_type": "display_data"
    },
    {
     "data": {
      "text/html": [
       "<pre style=\"white-space:pre;overflow-x:auto;line-height:normal;font-family:Menlo,'DejaVu Sans Mono',consolas,'Courier New',monospace\"><span style=\"color: #808000; text-decoration-color: #808000; font-weight: bold\">/projects/stock_analysis_platform/dags/python/Helper.py:</span><span style=\"color: #808000; text-decoration-color: #808000; font-weight: bold\">76</span><span style=\"color: #808000; text-decoration-color: #808000; font-weight: bold\"> FutureWarning</span><span style=\"color: #808000; text-decoration-color: #808000\">: The frame.append method is deprecated and will be removed from pandas in a future version. Use pandas.concat instead.</span>\n",
       "</pre>\n"
      ],
      "text/plain": [
       "\u001b[1;33m/projects/stock_analysis_platform/dags/python/\u001b[0m\u001b[1;33mHelper.py\u001b[0m\u001b[1;33m:\u001b[0m\u001b[1;33m76\u001b[0m\u001b[1;33m FutureWarning\u001b[0m\u001b[33m: The frame.append method is deprecated and will be removed from pandas in a future version. Use pandas.concat instead.\u001b[0m\n"
      ]
     },
     "metadata": {},
     "output_type": "display_data"
    },
    {
     "data": {
      "text/html": [
       "<div>\n",
       "<style scoped>\n",
       "    .dataframe tbody tr th:only-of-type {\n",
       "        vertical-align: middle;\n",
       "    }\n",
       "\n",
       "    .dataframe tbody tr th {\n",
       "        vertical-align: top;\n",
       "    }\n",
       "\n",
       "    .dataframe thead th {\n",
       "        text-align: right;\n",
       "    }\n",
       "</style>\n",
       "<table border=\"1\" class=\"dataframe\">\n",
       "  <thead>\n",
       "    <tr style=\"text-align: right;\">\n",
       "      <th></th>\n",
       "      <th>AED</th>\n",
       "      <th>AFN</th>\n",
       "      <th>ALL</th>\n",
       "      <th>AMD</th>\n",
       "      <th>ANG</th>\n",
       "      <th>AOA</th>\n",
       "      <th>ARS</th>\n",
       "      <th>AUD</th>\n",
       "      <th>AWG</th>\n",
       "      <th>AZN</th>\n",
       "      <th>...</th>\n",
       "      <th>XAU</th>\n",
       "      <th>XCD</th>\n",
       "      <th>XDR</th>\n",
       "      <th>XOF</th>\n",
       "      <th>XPF</th>\n",
       "      <th>YER</th>\n",
       "      <th>ZAR</th>\n",
       "      <th>ZMK</th>\n",
       "      <th>ZMW</th>\n",
       "      <th>ZWL</th>\n",
       "    </tr>\n",
       "  </thead>\n",
       "  <tbody>\n",
       "    <tr>\n",
       "      <th>2022-01-01</th>\n",
       "      <td>4.176782</td>\n",
       "      <td>117.979297</td>\n",
       "      <td>121.277018</td>\n",
       "      <td>546.096265</td>\n",
       "      <td>2.049808</td>\n",
       "      <td>626.101357</td>\n",
       "      <td>116.773434</td>\n",
       "      <td>1.564485</td>\n",
       "      <td>2.046862</td>\n",
       "      <td>1.937662</td>\n",
       "      <td>...</td>\n",
       "      <td>0.000622</td>\n",
       "      <td>3.073193</td>\n",
       "      <td>0.812663</td>\n",
       "      <td>658.979869</td>\n",
       "      <td>120.367257</td>\n",
       "      <td>284.571056</td>\n",
       "      <td>18.138658</td>\n",
       "      <td>10235.677475</td>\n",
       "      <td>18.94874</td>\n",
       "      <td>366.160363</td>\n",
       "    </tr>\n",
       "    <tr>\n",
       "      <th>2022-01-02</th>\n",
       "      <td>4.177235</td>\n",
       "      <td>117.993578</td>\n",
       "      <td>121.292102</td>\n",
       "      <td>546.164583</td>\n",
       "      <td>2.050064</td>\n",
       "      <td>626.179720</td>\n",
       "      <td>116.759289</td>\n",
       "      <td>1.565111</td>\n",
       "      <td>2.047118</td>\n",
       "      <td>1.931850</td>\n",
       "      <td>...</td>\n",
       "      <td>0.000622</td>\n",
       "      <td>3.073577</td>\n",
       "      <td>0.812765</td>\n",
       "      <td>659.057648</td>\n",
       "      <td>120.382047</td>\n",
       "      <td>284.605769</td>\n",
       "      <td>18.156679</td>\n",
       "      <td>10236.956907</td>\n",
       "      <td>18.95111</td>\n",
       "      <td>366.206170</td>\n",
       "    </tr>\n",
       "  </tbody>\n",
       "</table>\n",
       "<p>2 rows × 168 columns</p>\n",
       "</div>"
      ],
      "text/plain": [
       "                 AED         AFN         ALL         AMD       ANG  \\\n",
       "2022-01-01  4.176782  117.979297  121.277018  546.096265  2.049808   \n",
       "2022-01-02  4.177235  117.993578  121.292102  546.164583  2.050064   \n",
       "\n",
       "                   AOA         ARS       AUD       AWG       AZN  ...  \\\n",
       "2022-01-01  626.101357  116.773434  1.564485  2.046862  1.937662  ...   \n",
       "2022-01-02  626.179720  116.759289  1.565111  2.047118  1.931850  ...   \n",
       "\n",
       "                 XAU       XCD       XDR         XOF         XPF         YER  \\\n",
       "2022-01-01  0.000622  3.073193  0.812663  658.979869  120.367257  284.571056   \n",
       "2022-01-02  0.000622  3.073577  0.812765  659.057648  120.382047  284.605769   \n",
       "\n",
       "                  ZAR           ZMK       ZMW         ZWL  \n",
       "2022-01-01  18.138658  10235.677475  18.94874  366.160363  \n",
       "2022-01-02  18.156679  10236.956907  18.95111  366.206170  \n",
       "\n",
       "[2 rows x 168 columns]"
      ]
     },
     "execution_count": 116,
     "metadata": {},
     "output_type": "execute_result"
    }
   ],
   "source": [
    "rates = extract_rates_dictionary(results)\n",
    "\n",
    "start_date = \"2022-01-01\"\n",
    "end_date = \"2022-01-02\"\n",
    "\n",
    "df = create_dataframe(rates, start_date, end_date, export_to_csv=False)\n",
    "df"
   ]
  },
  {
   "cell_type": "code",
   "execution_count": null,
   "metadata": {},
   "outputs": [],
   "source": [
    "import pytest\n",
    "from dags.python.Helper import extract_rates, extract_rates_dictionary, create_dataframe, load_to_google_storage, process_rates\n",
    "import configparser\n",
    "import pandas as pd\n",
    "import numpy as np\n",
    "\n",
    "\n",
    "def process_rates(rates_location = 'dags/rates.csv') -> pd.DataFrame:\n",
    "\n",
    "    '''\n",
    "    Process the rates DataFrame. \n",
    "    Convert format from this:\n",
    "        \n",
    "        - date|AED|AFN|ALL|AMD|ANG ... etc\n",
    "\n",
    "    To this:\n",
    "\n",
    "        - date|symbol|rate\n",
    "\n",
    "    Args:\n",
    "        - rates_DataFrame_location(str) - Location of the rates CSV file.\n",
    "    Returns:\n",
    "        - new_df(pd.DataFrame) - The new DataFrame.\n",
    "    '''\n",
    "    \n",
    "    df = pd.read_csv(rates_location, index_col='Unnamed: 0')\n",
    "\n",
    "    # Create a new DataFrame\n",
    "    new_df = pd.DataFrame(columns=['date', 'symbol', 'rate'])\n",
    "\n",
    "    # Set values\n",
    "    symbols = df.T.index\n",
    "    start_date = np.min(df.index)\n",
    "    end_date = np.max(df.index)\n",
    "    dates = pd.date_range(start_date, end_date, freq='D')\n",
    "    arr = np.array([])\n",
    "\n",
    "    # Create a series of dates.\n",
    "    # Each date is repeated as many times as there are symbols\n",
    "    repeated_dates = np.tile(dates, len(symbols))\n",
    "    dates_series = pd.Series(repeated_dates).sort_values()\n",
    "\n",
    "    # Create a numpy array of all the rates from the original DataFrame\n",
    "    for i in range(len(dates)):\n",
    "        arr = np.append(arr = arr, values=df.iloc[i, :])\n",
    "    \n",
    "    # Append the rates to the rate column in the new DataFrame\n",
    "    new_df['rate'] = arr\n",
    "    new_df = new_df.reset_index(drop=['index'])\n",
    "    \n",
    "    # Return the new DataFrame\n",
    "    return new_df"
   ]
  },
  {
   "cell_type": "code",
   "execution_count": 272,
   "metadata": {},
   "outputs": [],
   "source": [
    "import pytest\n",
    "from dags.python.Helper import extract_rates, extract_rates_dictionary, create_dataframe, load_to_google_storage, process_rates\n",
    "import configparser\n",
    "import pandas as pd\n",
    "import numpy as np\n",
    "\n",
    "df = process_rates()\n",
    "new_df = pd.DataFrame(columns=['date', 'symbol', 'rate'])\n",
    "\n",
    " "
   ]
  },
  {
   "cell_type": "code",
   "execution_count": 273,
   "metadata": {},
   "outputs": [],
   "source": [
    "symbols = df.T.index\n",
    "\n",
    "start_date = np.min(df.index)\n",
    "end_date = np.max(df.index)\n",
    "\n",
    "dates = pd.date_range(start_date, end_date, freq='D')\n",
    "\n",
    "# Repeat each date 168 times using np.tile\n",
    "repeated_dates = np.tile(dates, len(symbols))\n",
    "\n",
    "dates_series = pd.Series(repeated_dates).sort_values()\n"
   ]
  },
  {
   "cell_type": "code",
   "execution_count": 274,
   "metadata": {},
   "outputs": [],
   "source": [
    "new_df['date'] = dates_series\n",
    "new_df['symbol'] =  np.tile(symbols, len(dates))"
   ]
  },
  {
   "cell_type": "code",
   "execution_count": 252,
   "metadata": {},
   "outputs": [
    {
     "data": {
      "text/plain": [
       "Index(['2022-01-01', '2022-01-02'], dtype='object')"
      ]
     },
     "execution_count": 252,
     "metadata": {},
     "output_type": "execute_result"
    }
   ],
   "source": [
    "dates = df.index\n",
    "dates"
   ]
  },
  {
   "cell_type": "code",
   "execution_count": 254,
   "metadata": {},
   "outputs": [
    {
     "data": {
      "text/plain": [
       "AED        4.177235\n",
       "AFN      117.993578\n",
       "ALL      121.292102\n",
       "AMD      546.164583\n",
       "ANG        2.050064\n",
       "           ...     \n",
       "YER      284.605769\n",
       "ZAR       18.156679\n",
       "ZMK    10236.956907\n",
       "ZMW       18.951110\n",
       "ZWL      366.206170\n",
       "Name: 2022-01-02, Length: 168, dtype: float64"
      ]
     },
     "execution_count": 254,
     "metadata": {},
     "output_type": "execute_result"
    }
   ],
   "source": [
    "df.iloc[1, :]"
   ]
  },
  {
   "cell_type": "code",
   "execution_count": null,
   "metadata": {},
   "outputs": [],
   "source": []
  },
  {
   "cell_type": "code",
   "execution_count": null,
   "metadata": {},
   "outputs": [],
   "source": []
  },
  {
   "cell_type": "code",
   "execution_count": 1,
   "metadata": {},
   "outputs": [],
   "source": [
    "import pytest\n",
    "from dags.python.Helper import extract_rates, extract_rates_dictionary, create_dataframe, load_to_google_storage, process_rates\n",
    "import configparser\n",
    "import pandas as pd\n",
    "import numpy as np\n",
    "\n",
    "new_df = process_rates()\n",
    "\n",
    "old_df = pd.read_csv('dags/rates.csv', index_col='Unnamed: 0')"
   ]
  },
  {
   "cell_type": "code",
   "execution_count": null,
   "metadata": {},
   "outputs": [],
   "source": []
  },
  {
   "cell_type": "code",
   "execution_count": null,
   "metadata": {},
   "outputs": [],
   "source": [
    "try:\n",
    "    rates = df[df.symbol == symbol].rate.values\n",
    "   axis.plot(dates, rates)\n",
    "   output = io.BytesIO()\n",
    "   FigureCanvas(fig).print_png(output)\n",
    "except Exception as e:\n",
    "    print('Symbol Does not exists. Choose another one.')\n"
   ]
  },
  {
   "cell_type": "code",
   "execution_count": 53,
   "metadata": {},
   "outputs": [
    {
     "data": {
      "text/plain": [
       "array(['AED', 'AFN', 'ALL', 'AMD', 'ANG', 'AOA', 'ARS', 'AUD', 'AWG',\n",
       "       'AZN', 'BAM', 'BBD', 'BDT', 'BGN', 'BHD', 'BIF', 'BMD', 'BND',\n",
       "       'BOB', 'BRL', 'BSD', 'BTC', 'BTN', 'BWP', 'BYN', 'BYR', 'BZD',\n",
       "       'CAD', 'CDF', 'CHF', 'CLF', 'CLP', 'CNY', 'COP', 'CRC', 'CUC',\n",
       "       'CUP', 'CVE', 'CZK', 'DJF', 'DKK', 'DOP', 'DZD', 'EGP', 'ERN',\n",
       "       'ETB', 'EUR', 'FJD', 'FKP', 'GBP', 'GEL', 'GGP', 'GHS', 'GIP',\n",
       "       'GMD', 'GNF', 'GTQ', 'GYD', 'HKD', 'HNL', 'HRK', 'HTG', 'HUF',\n",
       "       'IDR', 'ILS', 'IMP', 'INR', 'IQD', 'IRR', 'ISK', 'JEP', 'JMD',\n",
       "       'JOD', 'JPY', 'KES', 'KGS', 'KHR', 'KMF', 'KPW', 'KRW', 'KWD',\n",
       "       'KYD', 'KZT', 'LAK', 'LBP', 'LKR', 'LRD', 'LSL', 'LTL', 'LVL',\n",
       "       'LYD', 'MAD', 'MDL', 'MGA', 'MKD', 'MMK', 'MNT', 'MOP', 'MRO',\n",
       "       'MUR', 'MVR', 'MWK', 'MXN', 'MYR', 'MZN', 'NAD', 'NGN', 'NIO',\n",
       "       'NOK', 'NPR', 'NZD', 'OMR', 'PAB', 'PEN', 'PGK', 'PHP', 'PKR',\n",
       "       'PLN', 'PYG', 'QAR', 'RON', 'RSD', 'RUB', 'RWF', 'SAR', 'SBD',\n",
       "       'SCR', 'SDG', 'SEK', 'SGD', 'SHP', 'SLL', 'SOS', 'SRD', 'STD',\n",
       "       'SVC', 'SYP', 'SZL', 'THB', 'TJS', 'TMT', 'TND', 'TOP', 'TRY',\n",
       "       'TTD', 'TWD', 'TZS', 'UAH', 'UGX', 'USD', 'UYU', 'UZS', 'VEF',\n",
       "       'VND', 'VUV', 'WST', 'XAF', 'XAG', 'XAU', 'XCD', 'XDR', 'XOF',\n",
       "       'XPF', 'YER', 'ZAR', 'ZMK', 'ZMW', 'ZWL', 'AED', 'AFN', 'ALL',\n",
       "       'AMD', 'ANG', 'AOA', 'ARS', 'AUD', 'AWG', 'AZN', 'BAM', 'BBD',\n",
       "       'BDT', 'BGN', 'BHD', 'BIF', 'BMD', 'BND', 'BOB', 'BRL', 'BSD',\n",
       "       'BTC', 'BTN', 'BWP', 'BYN', 'BYR', 'BZD', 'CAD', 'CDF', 'CHF',\n",
       "       'CLF', 'CLP', 'CNY', 'COP', 'CRC', 'CUC', 'CUP', 'CVE', 'CZK',\n",
       "       'DJF', 'DKK', 'DOP', 'DZD', 'EGP', 'ERN', 'ETB', 'EUR', 'FJD',\n",
       "       'FKP', 'GBP', 'GEL', 'GGP', 'GHS', 'GIP', 'GMD', 'GNF', 'GTQ',\n",
       "       'GYD', 'HKD', 'HNL', 'HRK', 'HTG', 'HUF', 'IDR', 'ILS', 'IMP',\n",
       "       'INR', 'IQD', 'IRR', 'ISK', 'JEP', 'JMD', 'JOD', 'JPY', 'KES',\n",
       "       'KGS', 'KHR', 'KMF', 'KPW', 'KRW', 'KWD', 'KYD', 'KZT', 'LAK',\n",
       "       'LBP', 'LKR', 'LRD', 'LSL', 'LTL', 'LVL', 'LYD', 'MAD', 'MDL',\n",
       "       'MGA', 'MKD', 'MMK', 'MNT', 'MOP', 'MRO', 'MUR', 'MVR', 'MWK',\n",
       "       'MXN', 'MYR', 'MZN', 'NAD', 'NGN', 'NIO', 'NOK', 'NPR', 'NZD',\n",
       "       'OMR', 'PAB', 'PEN', 'PGK', 'PHP', 'PKR', 'PLN', 'PYG', 'QAR',\n",
       "       'RON', 'RSD', 'RUB', 'RWF', 'SAR', 'SBD', 'SCR', 'SDG', 'SEK',\n",
       "       'SGD', 'SHP', 'SLL', 'SOS', 'SRD', 'STD', 'SVC', 'SYP', 'SZL',\n",
       "       'THB', 'TJS', 'TMT', 'TND', 'TOP', 'TRY', 'TTD', 'TWD', 'TZS',\n",
       "       'UAH', 'UGX', 'USD', 'UYU', 'UZS', 'VEF', 'VND', 'VUV', 'WST',\n",
       "       'XAF', 'XAG', 'XAU', 'XCD', 'XDR', 'XOF', 'XPF', 'YER', 'ZAR',\n",
       "       'ZMK', 'ZMW', 'ZWL'], dtype=object)"
      ]
     },
     "execution_count": 53,
     "metadata": {},
     "output_type": "execute_result"
    }
   ],
   "source": [
    "df = pd.read_csv('dags/processed_rates.csv', index_col = 'Unnamed: 0')\n",
    "symbols = df.symbol.values"
   ]
  },
  {
   "cell_type": "code",
   "execution_count": 109,
   "metadata": {},
   "outputs": [
    {
     "name": "stdout",
     "output_type": "stream",
     "text": [
      "[\u001b[34m2022-12-22 15:56:20,715\u001b[0m] {\u001b[34mcategory.py:\u001b[0m234} INFO\u001b[0m - Using categorical units to plot a list of strings that are all parsable as floats or dates. If these strings should be plotted as numbers, cast to the appropriate data type before plotting.\u001b[0m\n",
      "[\u001b[34m2022-12-22 15:56:20,717\u001b[0m] {\u001b[34mcategory.py:\u001b[0m234} INFO\u001b[0m - Using categorical units to plot a list of strings that are all parsable as floats or dates. If these strings should be plotted as numbers, cast to the appropriate data type before plotting.\u001b[0m\n"
     ]
    },
    {
     "ename": "AttributeError",
     "evalue": "'StrCategoryFormatter' object has no attribute 'set_useOffset'",
     "output_type": "error",
     "traceback": [
      "\u001b[0;31m---------------------------------------------------------------------------\u001b[0m",
      "\u001b[0;31mAttributeError\u001b[0m                            Traceback (most recent call last)",
      "Cell \u001b[0;32mIn[109], line 33\u001b[0m\n\u001b[1;32m     30\u001b[0m ax[\u001b[39m1\u001b[39m]\u001b[39m.\u001b[39mset_ylabel(\u001b[39m'\u001b[39m\u001b[39mDensity\u001b[39m\u001b[39m'\u001b[39m, size \u001b[39m=\u001b[39m \u001b[39m16\u001b[39m, rotation \u001b[39m=\u001b[39m \u001b[39m0\u001b[39m)\n\u001b[1;32m     31\u001b[0m ax[\u001b[39m1\u001b[39m]\u001b[39m.\u001b[39mset_title(\u001b[39mf\u001b[39m\u001b[39m'\u001b[39m\u001b[39mHistogram - \u001b[39m\u001b[39m{\u001b[39;00msymbol\u001b[39m}\u001b[39;00m\u001b[39m'\u001b[39m, size \u001b[39m=\u001b[39m \u001b[39m20\u001b[39m)\n\u001b[0;32m---> 33\u001b[0m ax[\u001b[39m0\u001b[39;49m]\u001b[39m.\u001b[39;49mget_yaxis()\u001b[39m.\u001b[39;49mget_major_formatter()\u001b[39m.\u001b[39;49mset_useOffset(\u001b[39mFalse\u001b[39;00m)\n",
      "\u001b[0;31mAttributeError\u001b[0m: 'StrCategoryFormatter' object has no attribute 'set_useOffset'"
     ]
    },
    {
     "data": {
      "image/png": "[encoded data removed]",
      "text/plain": [
       "<Figure size 1500x800 with 2 Axes>"
      ]
     },
     "metadata": {},
     "output_type": "display_data"
    }
   ],
   "source": [
    "import io\n",
    "from flask import Response\n",
    "import matplotlib.pyplot as plt\n",
    "from matplotlib.backends.backend_agg import FigureCanvasAgg as FigureCanvas\n",
    "from matplotlib.figure import Figure\n",
    "from flask import Flask, render_template\n",
    "import pandas as pd\n",
    "import seaborn as sns\n",
    "import matplotlib as mpl\n",
    "\n",
    "df = pd.read_csv('dags/processed_rates.csv', index_col = 'Unnamed: 0')\n",
    "\n",
    "symbol = 'USD'\n",
    "dates = df.date.unique()\n",
    "    \n",
    "    # Extract the rates of the symbol in the URL\n",
    "rates = df[df.symbol == symbol].rate\n",
    "\n",
    "   # Create a figure and an axis objects\n",
    "fig, ax = plt.subplots(2,1, figsize = [15,8])\n",
    "\n",
    "   # Create a line chart\n",
    "ax[0].plot(rates, dates,  marker = 'v', linestyle= '--' ,c = 'r')\n",
    "ax[0].set_xlabel('Rate', size = 16)\n",
    "ax[0].set_ylabel('Date', size = 16, rotation = 0)\n",
    "ax[0].set_title(f'Line Chart - {symbol}', size = 20)\n",
    "\n",
    "   # Create a histogram plot\n",
    "ax[1].hist(rates)\n",
    "ax[1].set_xlabel('Rate', size = 16)\n",
    "ax[1].set_ylabel('Density', size = 16, rotation = 0)\n",
    "ax[1].set_title(f'Histogram - {symbol}', size = 20)\n",
    "\n",
    "ax[0].get_yaxis().get_major_formatter().set_useOffset(False)"
   ]
  },
  {
   "cell_type": "code",
   "execution_count": 106,
   "metadata": {},
   "outputs": [
    {
     "data": {
      "text/plain": [
       "149    1.137145\n",
       "317    1.137288\n",
       "Name: rate, dtype: float64"
      ]
     },
     "execution_count": 106,
     "metadata": {},
     "output_type": "execute_result"
    }
   ],
   "source": [
    "rates"
   ]
  },
  {
   "cell_type": "code",
   "execution_count": null,
   "metadata": {},
   "outputs": [],
   "source": []
  },
  {
   "cell_type": "code",
   "execution_count": null,
   "metadata": {},
   "outputs": [],
   "source": []
  }
 ],
 "metadata": {
  "kernelspec": {
   "display_name": "Python 3.10.6 ('stock_analysis_platform': venv)",
   "language": "python",
   "name": "python3"
  },
  "language_info": {
   "codemirror_mode": {
    "name": "ipython",
    "version": 3
   },
   "file_extension": ".py",
   "mimetype": "text/x-python",
   "name": "python",
   "nbconvert_exporter": "python",
   "pygments_lexer": "ipython3",
   "version": "3.10.6"
  },
  "orig_nbformat": 4,
  "vscode": {
   "interpreter": {
    "hash": "6fa6a19ad7eb8c607c28f61f24fd24ae717b95873e2c08589cb71f7dc1ecd590"
   }
  }
 },
 "nbformat": 4,
 "nbformat_minor": 2
}
