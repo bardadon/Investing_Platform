{
 "cells": [
  {
   "cell_type": "code",
   "execution_count": 27,
   "metadata": {},
   "outputs": [],
   "source": [
    "from pyspark.sql import SparkSession\n",
    "from pyspark.sql.types import StructType, StructField, FloatType\n",
    "\n",
    "# Create spark session\n",
    "spark = SparkSession.builder.appName('Processing Data').master('localhost').getOrCreate()\n",
    "\n",
    "# Create a schema\n",
    "schema = StructType([ \\\n",
    " StructField(\"rate\", FloatType(), True) \n",
    "])\n",
    " \n",
    "# Load data\n",
    "df = spark.read.schema(schema).csv('dags/rates.csv')\n",
    "\n",
    "# Create a temp view\n",
    "df.createOrReplaceTempView(name='rates')"
   ]
  },
  {
   "cell_type": "code",
   "execution_count": 28,
   "metadata": {},
   "outputs": [
    {
     "name": "stdout",
     "output_type": "stream",
     "text": [
      "+----+\n",
      "|rate|\n",
      "+----+\n",
      "|null|\n",
      "| 0.0|\n",
      "| 1.0|\n",
      "| 2.0|\n",
      "| 3.0|\n",
      "+----+\n",
      "only showing top 5 rows\n",
      "\n",
      "None\n"
     ]
    }
   ],
   "source": [
    "query = '''\n",
    "\n",
    "select *\n",
    "from rates;\n",
    "'''\n",
    "result = spark.sql(query)\n",
    "print(result.show(5))\n"
   ]
  },
  {
   "cell_type": "code",
   "execution_count": null,
   "metadata": {},
   "outputs": [],
   "source": [
    "import pytest\n",
    "from dags.python.Helper import extract_rates, extract_rates_dictionary, create_dataframe, load_to_google_storage\n",
    "import configparser\n",
    "import pandas as pd\n",
    "\n",
    "# Configs\n",
    "config = configparser.ConfigParser()\n",
    "config.read('/projects/stock_analysis_platform/dags/python/pipeline.conf')\n",
    "api_key = config.get('fixer_io_api_key', 'api_key')\n",
    "\n",
    "\n",
    "with open('/projects/stock_analysis_platform/rates_test.txt', 'w') as write_file:\n",
    "    write_file.write(rates)\n",
    "\n"
   ]
  },
  {
   "cell_type": "code",
   "execution_count": 36,
   "metadata": {},
   "outputs": [],
   "source": [
    "import json\n",
    "\n",
    "with open('/projects/stock_analysis_platform/rates_test.txt', 'r') as read_file:\n",
    "    results = read_file.read()\n",
    "    read_file.close()\n",
    "\n",
    "rates = extract_rates_dictionary(results)\n",
    "\n",
    "assert '2022-01-01' in rates.keys()\n"
   ]
  },
  {
   "cell_type": "code",
   "execution_count": 55,
   "metadata": {},
   "outputs": [
    {
     "data": {
      "text/html": [
       "<pre style=\"white-space:pre;overflow-x:auto;line-height:normal;font-family:Menlo,'DejaVu Sans Mono',consolas,'Courier New',monospace\"><span style=\"color: #808000; text-decoration-color: #808000; font-weight: bold\">/tmp/ipykernel_632/2307878296.py:</span><span style=\"color: #808000; text-decoration-color: #808000; font-weight: bold\">18</span><span style=\"color: #808000; text-decoration-color: #808000; font-weight: bold\"> FutureWarning</span><span style=\"color: #808000; text-decoration-color: #808000\">: The frame.append method is deprecated and will be removed from pandas in a future version. Use pandas.concat instead.</span>\n",
       "</pre>\n"
      ],
      "text/plain": [
       "\u001b[1;33m/tmp/ipykernel_632/\u001b[0m\u001b[1;33m2307878296.py\u001b[0m\u001b[1;33m:\u001b[0m\u001b[1;33m18\u001b[0m\u001b[1;33m FutureWarning\u001b[0m\u001b[33m: The frame.append method is deprecated and will be removed from pandas in a future version. Use pandas.concat instead.\u001b[0m\n"
      ]
     },
     "metadata": {},
     "output_type": "display_data"
    },
    {
     "data": {
      "text/html": [
       "<pre style=\"white-space:pre;overflow-x:auto;line-height:normal;font-family:Menlo,'DejaVu Sans Mono',consolas,'Courier New',monospace\"><span style=\"color: #808000; text-decoration-color: #808000; font-weight: bold\">/tmp/ipykernel_632/2307878296.py:</span><span style=\"color: #808000; text-decoration-color: #808000; font-weight: bold\">18</span><span style=\"color: #808000; text-decoration-color: #808000; font-weight: bold\"> FutureWarning</span><span style=\"color: #808000; text-decoration-color: #808000\">: The frame.append method is deprecated and will be removed from pandas in a future version. Use pandas.concat instead.</span>\n",
       "</pre>\n"
      ],
      "text/plain": [
       "\u001b[1;33m/tmp/ipykernel_632/\u001b[0m\u001b[1;33m2307878296.py\u001b[0m\u001b[1;33m:\u001b[0m\u001b[1;33m18\u001b[0m\u001b[1;33m FutureWarning\u001b[0m\u001b[33m: The frame.append method is deprecated and will be removed from pandas in a future version. Use pandas.concat instead.\u001b[0m\n"
      ]
     },
     "metadata": {},
     "output_type": "display_data"
    }
   ],
   "source": [
    "with open('/projects/stock_analysis_platform/rates_test.txt', 'r') as read_file:\n",
    "        results = read_file.read()\n",
    "        read_file.close()\n",
    "\n",
    "rates = extract_rates_dictionary(results)\n",
    "\n",
    "start_date = \"2022-01-01\"\n",
    "end_date = \"2022-01-02\"\n",
    "\n",
    "    # Call the function\n",
    "df = create_dataframe(rates, start_date, end_date, export_to_csv=False)"
   ]
  },
  {
   "cell_type": "code",
   "execution_count": 56,
   "metadata": {},
   "outputs": [
    {
     "data": {
      "text/html": [
       "<div>\n",
       "<style scoped>\n",
       "    .dataframe tbody tr th:only-of-type {\n",
       "        vertical-align: middle;\n",
       "    }\n",
       "\n",
       "    .dataframe tbody tr th {\n",
       "        vertical-align: top;\n",
       "    }\n",
       "\n",
       "    .dataframe thead th {\n",
       "        text-align: right;\n",
       "    }\n",
       "</style>\n",
       "<table border=\"1\" class=\"dataframe\">\n",
       "  <thead>\n",
       "    <tr style=\"text-align: right;\">\n",
       "      <th></th>\n",
       "      <th>AED</th>\n",
       "      <th>AFN</th>\n",
       "      <th>ALL</th>\n",
       "      <th>AMD</th>\n",
       "      <th>ANG</th>\n",
       "      <th>AOA</th>\n",
       "      <th>ARS</th>\n",
       "      <th>AUD</th>\n",
       "      <th>AWG</th>\n",
       "      <th>AZN</th>\n",
       "      <th>...</th>\n",
       "      <th>XAU</th>\n",
       "      <th>XCD</th>\n",
       "      <th>XDR</th>\n",
       "      <th>XOF</th>\n",
       "      <th>XPF</th>\n",
       "      <th>YER</th>\n",
       "      <th>ZAR</th>\n",
       "      <th>ZMK</th>\n",
       "      <th>ZMW</th>\n",
       "      <th>ZWL</th>\n",
       "    </tr>\n",
       "  </thead>\n",
       "  <tbody>\n",
       "    <tr>\n",
       "      <th>0</th>\n",
       "      <td>4.176782</td>\n",
       "      <td>117.979297</td>\n",
       "      <td>121.277018</td>\n",
       "      <td>546.096265</td>\n",
       "      <td>2.049808</td>\n",
       "      <td>626.101357</td>\n",
       "      <td>116.773434</td>\n",
       "      <td>1.564485</td>\n",
       "      <td>2.046862</td>\n",
       "      <td>1.937662</td>\n",
       "      <td>...</td>\n",
       "      <td>0.000622</td>\n",
       "      <td>3.073193</td>\n",
       "      <td>0.812663</td>\n",
       "      <td>658.979869</td>\n",
       "      <td>120.367257</td>\n",
       "      <td>284.571056</td>\n",
       "      <td>18.138658</td>\n",
       "      <td>10235.677475</td>\n",
       "      <td>18.94874</td>\n",
       "      <td>366.160363</td>\n",
       "    </tr>\n",
       "    <tr>\n",
       "      <th>1</th>\n",
       "      <td>4.176782</td>\n",
       "      <td>117.979297</td>\n",
       "      <td>121.277018</td>\n",
       "      <td>546.096265</td>\n",
       "      <td>2.049808</td>\n",
       "      <td>626.101357</td>\n",
       "      <td>116.773434</td>\n",
       "      <td>1.564485</td>\n",
       "      <td>2.046862</td>\n",
       "      <td>1.937662</td>\n",
       "      <td>...</td>\n",
       "      <td>0.000622</td>\n",
       "      <td>3.073193</td>\n",
       "      <td>0.812663</td>\n",
       "      <td>658.979869</td>\n",
       "      <td>120.367257</td>\n",
       "      <td>284.571056</td>\n",
       "      <td>18.138658</td>\n",
       "      <td>10235.677475</td>\n",
       "      <td>18.94874</td>\n",
       "      <td>366.160363</td>\n",
       "    </tr>\n",
       "    <tr>\n",
       "      <th>2</th>\n",
       "      <td>4.177235</td>\n",
       "      <td>117.993578</td>\n",
       "      <td>121.292102</td>\n",
       "      <td>546.164583</td>\n",
       "      <td>2.050064</td>\n",
       "      <td>626.179720</td>\n",
       "      <td>116.759289</td>\n",
       "      <td>1.565111</td>\n",
       "      <td>2.047118</td>\n",
       "      <td>1.931850</td>\n",
       "      <td>...</td>\n",
       "      <td>0.000622</td>\n",
       "      <td>3.073577</td>\n",
       "      <td>0.812765</td>\n",
       "      <td>659.057648</td>\n",
       "      <td>120.382047</td>\n",
       "      <td>284.605769</td>\n",
       "      <td>18.156679</td>\n",
       "      <td>10236.956907</td>\n",
       "      <td>18.95111</td>\n",
       "      <td>366.206170</td>\n",
       "    </tr>\n",
       "  </tbody>\n",
       "</table>\n",
       "<p>3 rows × 168 columns</p>\n",
       "</div>"
      ],
      "text/plain": [
       "        AED         AFN         ALL         AMD       ANG         AOA  \\\n",
       "0  4.176782  117.979297  121.277018  546.096265  2.049808  626.101357   \n",
       "1  4.176782  117.979297  121.277018  546.096265  2.049808  626.101357   \n",
       "2  4.177235  117.993578  121.292102  546.164583  2.050064  626.179720   \n",
       "\n",
       "          ARS       AUD       AWG       AZN  ...       XAU       XCD  \\\n",
       "0  116.773434  1.564485  2.046862  1.937662  ...  0.000622  3.073193   \n",
       "1  116.773434  1.564485  2.046862  1.937662  ...  0.000622  3.073193   \n",
       "2  116.759289  1.565111  2.047118  1.931850  ...  0.000622  3.073577   \n",
       "\n",
       "        XDR         XOF         XPF         YER        ZAR           ZMK  \\\n",
       "0  0.812663  658.979869  120.367257  284.571056  18.138658  10235.677475   \n",
       "1  0.812663  658.979869  120.367257  284.571056  18.138658  10235.677475   \n",
       "2  0.812765  659.057648  120.382047  284.605769  18.156679  10236.956907   \n",
       "\n",
       "        ZMW         ZWL  \n",
       "0  18.94874  366.160363  \n",
       "1  18.94874  366.160363  \n",
       "2  18.95111  366.206170  \n",
       "\n",
       "[3 rows x 168 columns]"
      ]
     },
     "execution_count": 56,
     "metadata": {},
     "output_type": "execute_result"
    }
   ],
   "source": [
    "df"
   ]
  },
  {
   "cell_type": "code",
   "execution_count": 44,
   "metadata": {},
   "outputs": [
    {
     "data": {
      "text/html": [
       "<div>\n",
       "<style scoped>\n",
       "    .dataframe tbody tr th:only-of-type {\n",
       "        vertical-align: middle;\n",
       "    }\n",
       "\n",
       "    .dataframe tbody tr th {\n",
       "        vertical-align: top;\n",
       "    }\n",
       "\n",
       "    .dataframe thead th {\n",
       "        text-align: right;\n",
       "    }\n",
       "</style>\n",
       "<table border=\"1\" class=\"dataframe\">\n",
       "  <thead>\n",
       "    <tr style=\"text-align: right;\">\n",
       "      <th></th>\n",
       "      <th>AED</th>\n",
       "      <th>AFN</th>\n",
       "      <th>ALL</th>\n",
       "      <th>AMD</th>\n",
       "      <th>ANG</th>\n",
       "      <th>AOA</th>\n",
       "      <th>ARS</th>\n",
       "      <th>AUD</th>\n",
       "      <th>AWG</th>\n",
       "      <th>AZN</th>\n",
       "      <th>...</th>\n",
       "      <th>XAU</th>\n",
       "      <th>XCD</th>\n",
       "      <th>XDR</th>\n",
       "      <th>XOF</th>\n",
       "      <th>XPF</th>\n",
       "      <th>YER</th>\n",
       "      <th>ZAR</th>\n",
       "      <th>ZMK</th>\n",
       "      <th>ZMW</th>\n",
       "      <th>ZWL</th>\n",
       "    </tr>\n",
       "  </thead>\n",
       "  <tbody>\n",
       "    <tr>\n",
       "      <th>0</th>\n",
       "      <td>4.176782</td>\n",
       "      <td>117.979297</td>\n",
       "      <td>121.277018</td>\n",
       "      <td>546.096265</td>\n",
       "      <td>2.049808</td>\n",
       "      <td>626.101357</td>\n",
       "      <td>116.773434</td>\n",
       "      <td>1.564485</td>\n",
       "      <td>2.046862</td>\n",
       "      <td>1.937662</td>\n",
       "      <td>...</td>\n",
       "      <td>0.000622</td>\n",
       "      <td>3.073193</td>\n",
       "      <td>0.812663</td>\n",
       "      <td>658.979869</td>\n",
       "      <td>120.367257</td>\n",
       "      <td>284.571056</td>\n",
       "      <td>18.138658</td>\n",
       "      <td>10235.677475</td>\n",
       "      <td>18.94874</td>\n",
       "      <td>366.160363</td>\n",
       "    </tr>\n",
       "  </tbody>\n",
       "</table>\n",
       "<p>1 rows × 168 columns</p>\n",
       "</div>"
      ],
      "text/plain": [
       "        AED         AFN         ALL         AMD       ANG         AOA  \\\n",
       "0  4.176782  117.979297  121.277018  546.096265  2.049808  626.101357   \n",
       "\n",
       "          ARS       AUD       AWG       AZN  ...       XAU       XCD  \\\n",
       "0  116.773434  1.564485  2.046862  1.937662  ...  0.000622  3.073193   \n",
       "\n",
       "        XDR         XOF         XPF         YER        ZAR           ZMK  \\\n",
       "0  0.812663  658.979869  120.367257  284.571056  18.138658  10235.677475   \n",
       "\n",
       "        ZMW         ZWL  \n",
       "0  18.94874  366.160363  \n",
       "\n",
       "[1 rows x 168 columns]"
      ]
     },
     "execution_count": 44,
     "metadata": {},
     "output_type": "execute_result"
    }
   ],
   "source": [
    "# Create a dataframe with the columns and indices from the first day's data\n",
    "first_day_data = rates.get(str(start_date))\n",
    "\n",
    "first_day_df = pd.DataFrame(data=first_day_data, index=[0])\n",
    "first_day_df"
   ]
  },
  {
   "cell_type": "code",
   "execution_count": 46,
   "metadata": {},
   "outputs": [
    {
     "data": {
      "text/plain": [
       "DatetimeIndex(['2022-01-01', '2022-01-02'], dtype='datetime64[ns]', freq='D')"
      ]
     },
     "execution_count": 46,
     "metadata": {},
     "output_type": "execute_result"
    }
   ],
   "source": [
    "dates = pd.date_range(start=start_date, end=end_date, freq='D')\n",
    "dates"
   ]
  },
  {
   "cell_type": "code",
   "execution_count": 47,
   "metadata": {},
   "outputs": [
    {
     "data": {
      "text/html": [
       "<pre style=\"white-space:pre;overflow-x:auto;line-height:normal;font-family:Menlo,'DejaVu Sans Mono',consolas,'Courier New',monospace\"><span style=\"color: #808000; text-decoration-color: #808000; font-weight: bold\">/tmp/ipykernel_632/3143271962.py:</span><span style=\"color: #808000; text-decoration-color: #808000; font-weight: bold\">7</span><span style=\"color: #808000; text-decoration-color: #808000; font-weight: bold\"> FutureWarning</span><span style=\"color: #808000; text-decoration-color: #808000\">: The frame.append method is deprecated and will be removed from pandas in a future version. Use pandas.concat instead.</span>\n",
       "</pre>\n"
      ],
      "text/plain": [
       "\u001b[1;33m/tmp/ipykernel_632/\u001b[0m\u001b[1;33m3143271962.py\u001b[0m\u001b[1;33m:\u001b[0m\u001b[1;33m7\u001b[0m\u001b[1;33m FutureWarning\u001b[0m\u001b[33m: The frame.append method is deprecated and will be removed from pandas in a future version. Use pandas.concat instead.\u001b[0m\n"
      ]
     },
     "metadata": {},
     "output_type": "display_data"
    },
    {
     "data": {
      "text/html": [
       "<pre style=\"white-space:pre;overflow-x:auto;line-height:normal;font-family:Menlo,'DejaVu Sans Mono',consolas,'Courier New',monospace\"><span style=\"color: #808000; text-decoration-color: #808000; font-weight: bold\">/tmp/ipykernel_632/3143271962.py:</span><span style=\"color: #808000; text-decoration-color: #808000; font-weight: bold\">7</span><span style=\"color: #808000; text-decoration-color: #808000; font-weight: bold\"> FutureWarning</span><span style=\"color: #808000; text-decoration-color: #808000\">: The frame.append method is deprecated and will be removed from pandas in a future version. Use pandas.concat instead.</span>\n",
       "</pre>\n"
      ],
      "text/plain": [
       "\u001b[1;33m/tmp/ipykernel_632/\u001b[0m\u001b[1;33m3143271962.py\u001b[0m\u001b[1;33m:\u001b[0m\u001b[1;33m7\u001b[0m\u001b[1;33m FutureWarning\u001b[0m\u001b[33m: The frame.append method is deprecated and will be removed from pandas in a future version. Use pandas.concat instead.\u001b[0m\n"
      ]
     },
     "metadata": {},
     "output_type": "display_data"
    }
   ],
   "source": [
    "for date in dates.date:\n",
    "    data = rates.get(str(date))\n",
    "    if data is None:\n",
    "            # Skip the date if there is no data for it\n",
    "        continue\n",
    "            # Append the data for the date to the dataframe\n",
    "    first_day_df = first_day_df.append(data, ignore_index=True)"
   ]
  },
  {
   "cell_type": "code",
   "execution_count": 48,
   "metadata": {},
   "outputs": [
    {
     "data": {
      "text/html": [
       "<div>\n",
       "<style scoped>\n",
       "    .dataframe tbody tr th:only-of-type {\n",
       "        vertical-align: middle;\n",
       "    }\n",
       "\n",
       "    .dataframe tbody tr th {\n",
       "        vertical-align: top;\n",
       "    }\n",
       "\n",
       "    .dataframe thead th {\n",
       "        text-align: right;\n",
       "    }\n",
       "</style>\n",
       "<table border=\"1\" class=\"dataframe\">\n",
       "  <thead>\n",
       "    <tr style=\"text-align: right;\">\n",
       "      <th></th>\n",
       "      <th>AED</th>\n",
       "      <th>AFN</th>\n",
       "      <th>ALL</th>\n",
       "      <th>AMD</th>\n",
       "      <th>ANG</th>\n",
       "      <th>AOA</th>\n",
       "      <th>ARS</th>\n",
       "      <th>AUD</th>\n",
       "      <th>AWG</th>\n",
       "      <th>AZN</th>\n",
       "      <th>...</th>\n",
       "      <th>XAU</th>\n",
       "      <th>XCD</th>\n",
       "      <th>XDR</th>\n",
       "      <th>XOF</th>\n",
       "      <th>XPF</th>\n",
       "      <th>YER</th>\n",
       "      <th>ZAR</th>\n",
       "      <th>ZMK</th>\n",
       "      <th>ZMW</th>\n",
       "      <th>ZWL</th>\n",
       "    </tr>\n",
       "  </thead>\n",
       "  <tbody>\n",
       "    <tr>\n",
       "      <th>0</th>\n",
       "      <td>4.176782</td>\n",
       "      <td>117.979297</td>\n",
       "      <td>121.277018</td>\n",
       "      <td>546.096265</td>\n",
       "      <td>2.049808</td>\n",
       "      <td>626.101357</td>\n",
       "      <td>116.773434</td>\n",
       "      <td>1.564485</td>\n",
       "      <td>2.046862</td>\n",
       "      <td>1.937662</td>\n",
       "      <td>...</td>\n",
       "      <td>0.000622</td>\n",
       "      <td>3.073193</td>\n",
       "      <td>0.812663</td>\n",
       "      <td>658.979869</td>\n",
       "      <td>120.367257</td>\n",
       "      <td>284.571056</td>\n",
       "      <td>18.138658</td>\n",
       "      <td>10235.677475</td>\n",
       "      <td>18.94874</td>\n",
       "      <td>366.160363</td>\n",
       "    </tr>\n",
       "    <tr>\n",
       "      <th>1</th>\n",
       "      <td>4.176782</td>\n",
       "      <td>117.979297</td>\n",
       "      <td>121.277018</td>\n",
       "      <td>546.096265</td>\n",
       "      <td>2.049808</td>\n",
       "      <td>626.101357</td>\n",
       "      <td>116.773434</td>\n",
       "      <td>1.564485</td>\n",
       "      <td>2.046862</td>\n",
       "      <td>1.937662</td>\n",
       "      <td>...</td>\n",
       "      <td>0.000622</td>\n",
       "      <td>3.073193</td>\n",
       "      <td>0.812663</td>\n",
       "      <td>658.979869</td>\n",
       "      <td>120.367257</td>\n",
       "      <td>284.571056</td>\n",
       "      <td>18.138658</td>\n",
       "      <td>10235.677475</td>\n",
       "      <td>18.94874</td>\n",
       "      <td>366.160363</td>\n",
       "    </tr>\n",
       "    <tr>\n",
       "      <th>2</th>\n",
       "      <td>4.177235</td>\n",
       "      <td>117.993578</td>\n",
       "      <td>121.292102</td>\n",
       "      <td>546.164583</td>\n",
       "      <td>2.050064</td>\n",
       "      <td>626.179720</td>\n",
       "      <td>116.759289</td>\n",
       "      <td>1.565111</td>\n",
       "      <td>2.047118</td>\n",
       "      <td>1.931850</td>\n",
       "      <td>...</td>\n",
       "      <td>0.000622</td>\n",
       "      <td>3.073577</td>\n",
       "      <td>0.812765</td>\n",
       "      <td>659.057648</td>\n",
       "      <td>120.382047</td>\n",
       "      <td>284.605769</td>\n",
       "      <td>18.156679</td>\n",
       "      <td>10236.956907</td>\n",
       "      <td>18.95111</td>\n",
       "      <td>366.206170</td>\n",
       "    </tr>\n",
       "  </tbody>\n",
       "</table>\n",
       "<p>3 rows × 168 columns</p>\n",
       "</div>"
      ],
      "text/plain": [
       "        AED         AFN         ALL         AMD       ANG         AOA  \\\n",
       "0  4.176782  117.979297  121.277018  546.096265  2.049808  626.101357   \n",
       "1  4.176782  117.979297  121.277018  546.096265  2.049808  626.101357   \n",
       "2  4.177235  117.993578  121.292102  546.164583  2.050064  626.179720   \n",
       "\n",
       "          ARS       AUD       AWG       AZN  ...       XAU       XCD  \\\n",
       "0  116.773434  1.564485  2.046862  1.937662  ...  0.000622  3.073193   \n",
       "1  116.773434  1.564485  2.046862  1.937662  ...  0.000622  3.073193   \n",
       "2  116.759289  1.565111  2.047118  1.931850  ...  0.000622  3.073577   \n",
       "\n",
       "        XDR         XOF         XPF         YER        ZAR           ZMK  \\\n",
       "0  0.812663  658.979869  120.367257  284.571056  18.138658  10235.677475   \n",
       "1  0.812663  658.979869  120.367257  284.571056  18.138658  10235.677475   \n",
       "2  0.812765  659.057648  120.382047  284.605769  18.156679  10236.956907   \n",
       "\n",
       "        ZMW         ZWL  \n",
       "0  18.94874  366.160363  \n",
       "1  18.94874  366.160363  \n",
       "2  18.95111  366.206170  \n",
       "\n",
       "[3 rows x 168 columns]"
      ]
     },
     "execution_count": 48,
     "metadata": {},
     "output_type": "execute_result"
    }
   ],
   "source": [
    "first_day_df"
   ]
  },
  {
   "cell_type": "code",
   "execution_count": 49,
   "metadata": {},
   "outputs": [],
   "source": [
    "first_day_df.to_csv('dags/rates.csv')"
   ]
  },
  {
   "cell_type": "code",
   "execution_count": 50,
   "metadata": {},
   "outputs": [
    {
     "data": {
      "text/html": [
       "<div>\n",
       "<style scoped>\n",
       "    .dataframe tbody tr th:only-of-type {\n",
       "        vertical-align: middle;\n",
       "    }\n",
       "\n",
       "    .dataframe tbody tr th {\n",
       "        vertical-align: top;\n",
       "    }\n",
       "\n",
       "    .dataframe thead th {\n",
       "        text-align: right;\n",
       "    }\n",
       "</style>\n",
       "<table border=\"1\" class=\"dataframe\">\n",
       "  <thead>\n",
       "    <tr style=\"text-align: right;\">\n",
       "      <th></th>\n",
       "      <th>AED</th>\n",
       "      <th>AFN</th>\n",
       "      <th>ALL</th>\n",
       "      <th>AMD</th>\n",
       "      <th>ANG</th>\n",
       "      <th>AOA</th>\n",
       "      <th>ARS</th>\n",
       "      <th>AUD</th>\n",
       "      <th>AWG</th>\n",
       "      <th>AZN</th>\n",
       "      <th>...</th>\n",
       "      <th>XAU</th>\n",
       "      <th>XCD</th>\n",
       "      <th>XDR</th>\n",
       "      <th>XOF</th>\n",
       "      <th>XPF</th>\n",
       "      <th>YER</th>\n",
       "      <th>ZAR</th>\n",
       "      <th>ZMK</th>\n",
       "      <th>ZMW</th>\n",
       "      <th>ZWL</th>\n",
       "    </tr>\n",
       "  </thead>\n",
       "  <tbody>\n",
       "    <tr>\n",
       "      <th>0</th>\n",
       "      <td>4.176782</td>\n",
       "      <td>117.979297</td>\n",
       "      <td>121.277018</td>\n",
       "      <td>546.096265</td>\n",
       "      <td>2.049808</td>\n",
       "      <td>626.101357</td>\n",
       "      <td>116.773434</td>\n",
       "      <td>1.564485</td>\n",
       "      <td>2.046862</td>\n",
       "      <td>1.937662</td>\n",
       "      <td>...</td>\n",
       "      <td>0.000622</td>\n",
       "      <td>3.073193</td>\n",
       "      <td>0.812663</td>\n",
       "      <td>658.979869</td>\n",
       "      <td>120.367257</td>\n",
       "      <td>284.571056</td>\n",
       "      <td>18.138658</td>\n",
       "      <td>10235.677475</td>\n",
       "      <td>18.94874</td>\n",
       "      <td>366.160363</td>\n",
       "    </tr>\n",
       "    <tr>\n",
       "      <th>1</th>\n",
       "      <td>4.176782</td>\n",
       "      <td>117.979297</td>\n",
       "      <td>121.277018</td>\n",
       "      <td>546.096265</td>\n",
       "      <td>2.049808</td>\n",
       "      <td>626.101357</td>\n",
       "      <td>116.773434</td>\n",
       "      <td>1.564485</td>\n",
       "      <td>2.046862</td>\n",
       "      <td>1.937662</td>\n",
       "      <td>...</td>\n",
       "      <td>0.000622</td>\n",
       "      <td>3.073193</td>\n",
       "      <td>0.812663</td>\n",
       "      <td>658.979869</td>\n",
       "      <td>120.367257</td>\n",
       "      <td>284.571056</td>\n",
       "      <td>18.138658</td>\n",
       "      <td>10235.677475</td>\n",
       "      <td>18.94874</td>\n",
       "      <td>366.160363</td>\n",
       "    </tr>\n",
       "    <tr>\n",
       "      <th>2</th>\n",
       "      <td>4.177235</td>\n",
       "      <td>117.993578</td>\n",
       "      <td>121.292102</td>\n",
       "      <td>546.164583</td>\n",
       "      <td>2.050064</td>\n",
       "      <td>626.179720</td>\n",
       "      <td>116.759289</td>\n",
       "      <td>1.565111</td>\n",
       "      <td>2.047118</td>\n",
       "      <td>1.931850</td>\n",
       "      <td>...</td>\n",
       "      <td>0.000622</td>\n",
       "      <td>3.073577</td>\n",
       "      <td>0.812765</td>\n",
       "      <td>659.057648</td>\n",
       "      <td>120.382047</td>\n",
       "      <td>284.605769</td>\n",
       "      <td>18.156679</td>\n",
       "      <td>10236.956907</td>\n",
       "      <td>18.95111</td>\n",
       "      <td>366.206170</td>\n",
       "    </tr>\n",
       "  </tbody>\n",
       "</table>\n",
       "<p>3 rows × 168 columns</p>\n",
       "</div>"
      ],
      "text/plain": [
       "        AED         AFN         ALL         AMD       ANG         AOA  \\\n",
       "0  4.176782  117.979297  121.277018  546.096265  2.049808  626.101357   \n",
       "1  4.176782  117.979297  121.277018  546.096265  2.049808  626.101357   \n",
       "2  4.177235  117.993578  121.292102  546.164583  2.050064  626.179720   \n",
       "\n",
       "          ARS       AUD       AWG       AZN  ...       XAU       XCD  \\\n",
       "0  116.773434  1.564485  2.046862  1.937662  ...  0.000622  3.073193   \n",
       "1  116.773434  1.564485  2.046862  1.937662  ...  0.000622  3.073193   \n",
       "2  116.759289  1.565111  2.047118  1.931850  ...  0.000622  3.073577   \n",
       "\n",
       "        XDR         XOF         XPF         YER        ZAR           ZMK  \\\n",
       "0  0.812663  658.979869  120.367257  284.571056  18.138658  10235.677475   \n",
       "1  0.812663  658.979869  120.367257  284.571056  18.138658  10235.677475   \n",
       "2  0.812765  659.057648  120.382047  284.605769  18.156679  10236.956907   \n",
       "\n",
       "        ZMW         ZWL  \n",
       "0  18.94874  366.160363  \n",
       "1  18.94874  366.160363  \n",
       "2  18.95111  366.206170  \n",
       "\n",
       "[3 rows x 168 columns]"
      ]
     },
     "execution_count": 50,
     "metadata": {},
     "output_type": "execute_result"
    }
   ],
   "source": [
    "first_day_df"
   ]
  },
  {
   "cell_type": "code",
   "execution_count": 53,
   "metadata": {},
   "outputs": [],
   "source": [
    "with open('/projects/stock_analysis_platform/rates_test.txt', 'r') as read_file:\n",
    "        results = read_file.read()\n",
    "        read_file.close()\n",
    "\n",
    "rates = extract_rates_dictionary(results)\n",
    "\n",
    "start_date = \"2022-01-01\"\n",
    "end_date = \"2022-01-02\"\n",
    "\n",
    "\n",
    "def create_dataframe(rates: dict, start_date: str, end_date: str, export_to_csv=True) -> pd.DataFrame:\n",
    "\n",
    "    # Create a dataframe with the columns and indices from the first day's data\n",
    "    first_day_data = rates.get(str(start_date))\n",
    "    if first_day_data is None:\n",
    "        # Return an empty dataframe if there is no data for the start date\n",
    "        return pd.DataFrame()\n",
    "    first_day_df = pd.DataFrame(data=first_day_data, index=[0])\n",
    "\n",
    "    # Iterate over the dates from the start_date to the end_date\n",
    "    dates = pd.date_range(start=start_date, end=end_date, freq='D')\n",
    "    for date in dates.date:\n",
    "        data = rates.get(str(date))\n",
    "        if data is None:\n",
    "            # Skip the date if there is no data for it\n",
    "            continue\n",
    "            # Append the data for the date to the dataframe\n",
    "        first_day_df = first_day_df.append(data, ignore_index=True)\n",
    "\n",
    "    if export_to_csv == True:\n",
    "        first_day_df.to_csv('dags/rates.csv')\n",
    "        \n",
    "    return first_day_df"
   ]
  },
  {
   "cell_type": "code",
   "execution_count": 57,
   "metadata": {},
   "outputs": [
    {
     "data": {
      "text/html": [
       "<pre style=\"white-space:pre;overflow-x:auto;line-height:normal;font-family:Menlo,'DejaVu Sans Mono',consolas,'Courier New',monospace\"><span style=\"color: #808000; text-decoration-color: #808000; font-weight: bold\">/tmp/ipykernel_632/2307878296.py:</span><span style=\"color: #808000; text-decoration-color: #808000; font-weight: bold\">18</span><span style=\"color: #808000; text-decoration-color: #808000; font-weight: bold\"> FutureWarning</span><span style=\"color: #808000; text-decoration-color: #808000\">: The frame.append method is deprecated and will be removed from pandas in a future version. Use pandas.concat instead.</span>\n",
       "</pre>\n"
      ],
      "text/plain": [
       "\u001b[1;33m/tmp/ipykernel_632/\u001b[0m\u001b[1;33m2307878296.py\u001b[0m\u001b[1;33m:\u001b[0m\u001b[1;33m18\u001b[0m\u001b[1;33m FutureWarning\u001b[0m\u001b[33m: The frame.append method is deprecated and will be removed from pandas in a future version. Use pandas.concat instead.\u001b[0m\n"
      ]
     },
     "metadata": {},
     "output_type": "display_data"
    },
    {
     "data": {
      "text/html": [
       "<pre style=\"white-space:pre;overflow-x:auto;line-height:normal;font-family:Menlo,'DejaVu Sans Mono',consolas,'Courier New',monospace\"><span style=\"color: #808000; text-decoration-color: #808000; font-weight: bold\">/tmp/ipykernel_632/2307878296.py:</span><span style=\"color: #808000; text-decoration-color: #808000; font-weight: bold\">18</span><span style=\"color: #808000; text-decoration-color: #808000; font-weight: bold\"> FutureWarning</span><span style=\"color: #808000; text-decoration-color: #808000\">: The frame.append method is deprecated and will be removed from pandas in a future version. Use pandas.concat instead.</span>\n",
       "</pre>\n"
      ],
      "text/plain": [
       "\u001b[1;33m/tmp/ipykernel_632/\u001b[0m\u001b[1;33m2307878296.py\u001b[0m\u001b[1;33m:\u001b[0m\u001b[1;33m18\u001b[0m\u001b[1;33m FutureWarning\u001b[0m\u001b[33m: The frame.append method is deprecated and will be removed from pandas in a future version. Use pandas.concat instead.\u001b[0m\n"
      ]
     },
     "metadata": {},
     "output_type": "display_data"
    }
   ],
   "source": [
    "df = create_dataframe(rates, start_date, end_date, export_to_csv=False)"
   ]
  },
  {
   "cell_type": "code",
   "execution_count": 67,
   "metadata": {},
   "outputs": [],
   "source": [
    "assert df.iloc[0:1, 0].values == 4.176782"
   ]
  },
  {
   "cell_type": "code",
   "execution_count": null,
   "metadata": {},
   "outputs": [],
   "source": []
  },
  {
   "cell_type": "code",
   "execution_count": null,
   "metadata": {},
   "outputs": [],
   "source": []
  },
  {
   "cell_type": "code",
   "execution_count": null,
   "metadata": {},
   "outputs": [],
   "source": []
  }
 ],
 "metadata": {
  "kernelspec": {
   "display_name": "Python 3.10.6 ('stock_analysis_platform': venv)",
   "language": "python",
   "name": "python3"
  },
  "language_info": {
   "codemirror_mode": {
    "name": "ipython",
    "version": 3
   },
   "file_extension": ".py",
   "mimetype": "text/x-python",
   "name": "python",
   "nbconvert_exporter": "python",
   "pygments_lexer": "ipython3",
   "version": "3.10.6"
  },
  "orig_nbformat": 4,
  "vscode": {
   "interpreter": {
    "hash": "6fa6a19ad7eb8c607c28f61f24fd24ae717b95873e2c08589cb71f7dc1ecd590"
   }
  }
 },
 "nbformat": 4,
 "nbformat_minor": 2
}
